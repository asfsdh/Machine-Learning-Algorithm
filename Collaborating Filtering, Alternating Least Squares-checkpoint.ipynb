{
 "cells": [
  {
   "cell_type": "code",
   "execution_count": 1,
   "metadata": {},
   "outputs": [
    {
     "data": {
      "text/plain": [
       "Intitializing Scala interpreter ..."
      ]
     },
     "metadata": {},
     "output_type": "display_data"
    },
    {
     "data": {
      "text/plain": [
       "Spark Web UI available at http://localhost:4040\n",
       "SparkContext available as 'sc' (version = 3.0.0, master = local[*], app id = local-1600591862507)\n",
       "SparkSession available as 'spark'\n"
      ]
     },
     "metadata": {},
     "output_type": "display_data"
    },
    {
     "data": {
      "text/plain": [
       "import org.apache.spark.ml.evaluation.RegressionEvaluator\n",
       "import org.apache.spark.ml.recommendation.ALS\n",
       "import org.apache.spark.sql.SQLContext\n",
       "import org.apache.spark.sql.types.{StructType, StructField, StringType, IntegerType, DoubleType, DateType}\n"
      ]
     },
     "execution_count": 1,
     "metadata": {},
     "output_type": "execute_result"
    }
   ],
   "source": [
    "import org.apache.spark.ml.evaluation.RegressionEvaluator\n",
    "import org.apache.spark.ml.recommendation.ALS\n",
    "import org.apache.spark.sql.SQLContext\n",
    "import org.apache.spark.sql.types.{StructType, StructField, StringType, IntegerType, DoubleType, DateType}"
   ]
  },
  {
   "cell_type": "code",
   "execution_count": 2,
   "metadata": {},
   "outputs": [
    {
     "data": {
      "text/plain": [
       "ADS: org.apache.spark.sql.types.StructType = StructType(StructField(artist id,IntegerType,true), StructField(artist name,StringType,true))\n",
       "UADS: org.apache.spark.sql.types.StructType = StructType(StructField(user id,IntegerType,true), StructField(artist id,IntegerType,true), StructField(play count,IntegerType,true))\n",
       "AAS: org.apache.spark.sql.types.StructType = StructType(StructField(bad id,IntegerType,true), StructField(good id,IntegerType,true))\n"
      ]
     },
     "execution_count": 2,
     "metadata": {},
     "output_type": "execute_result"
    }
   ],
   "source": [
    "val ADS = StructType(Array(StructField(\"artist id\", IntegerType),StructField(\"artist name\", StringType)))\n",
    "val UADS = StructType(Array(StructField(\"user id\", IntegerType),StructField(\"artist id\", IntegerType),StructField(\"play count\", IntegerType)))\n",
    "val AAS = StructType(Array(StructField(\"bad id\", IntegerType),StructField(\"good id\", IntegerType)))"
   ]
  },
  {
   "cell_type": "code",
   "execution_count": 3,
   "metadata": {},
   "outputs": [
    {
     "data": {
      "text/plain": [
       "AD: org.apache.spark.sql.DataFrame = [artist id: int, artist name: string]\n",
       "AA: org.apache.spark.sql.DataFrame = [bad id: int, good id: int]\n",
       "UAD: org.apache.spark.sql.DataFrame = [user id: int, artist id: int ... 1 more field]\n"
      ]
     },
     "execution_count": 3,
     "metadata": {},
     "output_type": "execute_result"
    }
   ],
   "source": [
    "val AD=spark.read.option(\"delimiter\",\"\\t\").schema(ADS).csv(\"Data/pdm/artist_data.txt\")\n",
    "val AA=spark.read.option(\"delimiter\",\"\\t\").schema(AAS).csv(\"Data/pdm/artist_alias.txt\")\n",
    "val UAD=spark.read.option(\"delimiter\",\" \").schema(UADS).csv(\"Data/pdm/user_artist_data.txt\")"
   ]
  },
  {
   "cell_type": "code",
   "execution_count": 49,
   "metadata": {},
   "outputs": [
    {
     "data": {
      "text/plain": [
       "SUAD: org.apache.spark.sql.Dataset[org.apache.spark.sql.Row] = [user id: int, artist id: int ... 1 more field]\n"
      ]
     },
     "execution_count": 49,
     "metadata": {},
     "output_type": "execute_result"
    }
   ],
   "source": [
    "val SUAD=UAD.sample(false,0.1)"
   ]
  },
  {
   "cell_type": "code",
   "execution_count": 50,
   "metadata": {},
   "outputs": [
    {
     "data": {
      "text/plain": [
       "train: org.apache.spark.sql.Dataset[org.apache.spark.sql.Row] = [user id: int, artist id: int ... 1 more field]\n",
       "test: org.apache.spark.sql.Dataset[org.apache.spark.sql.Row] = [user id: int, artist id: int ... 1 more field]\n"
      ]
     },
     "execution_count": 50,
     "metadata": {},
     "output_type": "execute_result"
    }
   ],
   "source": [
    "val Array(train, test) = SUAD.randomSplit(Array(0.8, 0.2))"
   ]
  },
  {
   "cell_type": "code",
   "execution_count": 51,
   "metadata": {},
   "outputs": [
    {
     "data": {
      "text/plain": [
       "res12: Long = 1942955\n"
      ]
     },
     "execution_count": 51,
     "metadata": {},
     "output_type": "execute_result"
    }
   ],
   "source": [
    "train.count()"
   ]
  },
  {
   "cell_type": "code",
   "execution_count": 52,
   "metadata": {},
   "outputs": [
    {
     "data": {
      "text/plain": [
       "res13: Long = 486183\n"
      ]
     },
     "execution_count": 52,
     "metadata": {},
     "output_type": "execute_result"
    }
   ],
   "source": [
    "test.count()"
   ]
  },
  {
   "cell_type": "code",
   "execution_count": 53,
   "metadata": {},
   "outputs": [
    {
     "name": "stdout",
     "output_type": "stream",
     "text": [
      "root\n",
      " |-- user id: integer (nullable = true)\n",
      " |-- artist id: integer (nullable = true)\n",
      " |-- play count: integer (nullable = true)\n",
      "\n",
      "root\n",
      " |-- user id: integer (nullable = true)\n",
      " |-- artist id: integer (nullable = true)\n",
      " |-- play count: integer (nullable = true)\n",
      "\n"
     ]
    }
   ],
   "source": [
    "train.printSchema()\n",
    "test.printSchema()"
   ]
  },
  {
   "cell_type": "code",
   "execution_count": 54,
   "metadata": {},
   "outputs": [
    {
     "data": {
      "text/plain": [
       "als: org.apache.spark.ml.recommendation.ALS = als_3ac693ffbaf4\n"
      ]
     },
     "execution_count": 54,
     "metadata": {},
     "output_type": "execute_result"
    }
   ],
   "source": [
    "val als=new ALS().setMaxIter(10).setRegParam(0.001).setUserCol(\"user id\").setItemCol(\"artist id\").setRatingCol(\"play count\")"
   ]
  },
  {
   "cell_type": "code",
   "execution_count": 55,
   "metadata": {},
   "outputs": [
    {
     "data": {
      "text/plain": [
       "model: org.apache.spark.ml.recommendation.ALSModel = ALSModel: uid=als_3ac693ffbaf4, rank=10\n"
      ]
     },
     "execution_count": 55,
     "metadata": {},
     "output_type": "execute_result"
    }
   ],
   "source": [
    "val model=als.fit(train)"
   ]
  },
  {
   "cell_type": "code",
   "execution_count": 56,
   "metadata": {},
   "outputs": [
    {
     "data": {
      "text/plain": [
       "prediction: org.apache.spark.sql.DataFrame = [user id: int, artist id: int ... 2 more fields]\n"
      ]
     },
     "execution_count": 56,
     "metadata": {},
     "output_type": "execute_result"
    }
   ],
   "source": [
    "var prediction=model.transform(test) "
   ]
  },
  {
   "cell_type": "code",
   "execution_count": 57,
   "metadata": {},
   "outputs": [
    {
     "name": "stdout",
     "output_type": "stream",
     "text": [
      "+-------+---------+----------+----------+\n",
      "|user id|artist id|play count|prediction|\n",
      "+-------+---------+----------+----------+\n",
      "|1063322|      463|         1| -40.77595|\n",
      "|2016025|      463|         1|  4.490662|\n",
      "|2096970|      463|        10| -61.53319|\n",
      "|2172074|      463|        14|  80.64729|\n",
      "|2264490|      463|         1| 29.804775|\n",
      "|2287978|      463|         3|-2.1316774|\n",
      "|2330907|      463|         1| 39.271255|\n",
      "|2147099|      463|         6| 227.31859|\n",
      "|2260819|      463|         2|  64.83311|\n",
      "|2305503|      463|        30| 29.156855|\n",
      "|2407068|      463|         3|  6.796276|\n",
      "|2253079|      463|         9| 126.06161|\n",
      "|2285999|      463|         1| 1342.6005|\n",
      "|1064853|      463|       240| -49.73991|\n",
      "|2097107|      463|         6| 604.57294|\n",
      "|2221116|      463|        51| 18.670784|\n",
      "|2071547|      463|        29|-106.41499|\n",
      "|2348831|      463|        40| 11.919959|\n",
      "|2053938|      463|         1| 104.85554|\n",
      "|2271462|      463|        45| 45.496014|\n",
      "+-------+---------+----------+----------+\n",
      "only showing top 20 rows\n",
      "\n"
     ]
    }
   ],
   "source": [
    "prediction.show()"
   ]
  },
  {
   "cell_type": "code",
   "execution_count": null,
   "metadata": {},
   "outputs": [],
   "source": []
  }
 ],
 "metadata": {
  "kernelspec": {
   "display_name": "spylon-kernel",
   "language": "scala",
   "name": "spylon-kernel"
  },
  "language_info": {
   "codemirror_mode": "text/x-scala",
   "file_extension": ".scala",
   "help_links": [
    {
     "text": "MetaKernel Magics",
     "url": "https://metakernel.readthedocs.io/en/latest/source/README.html"
    }
   ],
   "mimetype": "text/x-scala",
   "name": "scala",
   "pygments_lexer": "scala",
   "version": "0.4.1"
  }
 },
 "nbformat": 4,
 "nbformat_minor": 4
}
