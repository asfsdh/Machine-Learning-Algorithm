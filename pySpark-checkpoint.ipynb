{
 "cells": [
  {
   "cell_type": "code",
   "execution_count": 8,
   "metadata": {},
   "outputs": [
    {
     "name": "stdout",
     "output_type": "stream",
     "text": [
      "Requirement already satisfied: pyspark==2.4.6 in /usr/local/lib/python3.6/dist-packages\n",
      "Requirement already satisfied: py4j==0.10.7 in /usr/local/lib/python3.6/dist-packages (from pyspark==2.4.6)\n",
      "\n",
      "Requirement already satisfied: thunder-python in /usr/local/lib/python3.6/dist-packages\n",
      "Requirement already satisfied: six in /usr/lib/python3/dist-packages (from thunder-python)\n",
      "Requirement already satisfied: bolt-python>=0.7.0 in /usr/local/lib/python3.6/dist-packages (from thunder-python)\n",
      "Requirement already satisfied: numpy in /usr/local/lib/python3.6/dist-packages (from thunder-python)\n",
      "Requirement already satisfied: tifffile>=0.9.2 in /usr/local/lib/python3.6/dist-packages (from thunder-python)\n",
      "Requirement already satisfied: boto>=2.36.0 in /usr/local/lib/python3.6/dist-packages (from thunder-python)\n",
      "Requirement already satisfied: scipy in /usr/local/lib/python3.6/dist-packages (from thunder-python)\n",
      "Requirement already satisfied: pillow>=2.1.0 in /usr/local/lib/python3.6/dist-packages (from thunder-python)\n",
      "\n",
      "Requirement already satisfied: showit in /usr/local/lib/python3.6/dist-packages\n",
      "Requirement already satisfied: matplotlib in /usr/local/lib/python3.6/dist-packages (from showit)\n",
      "Requirement already satisfied: numpy in /usr/local/lib/python3.6/dist-packages (from showit)\n",
      "Requirement already satisfied: python-dateutil>=2.1 in /usr/local/lib/python3.6/dist-packages (from matplotlib->showit)\n",
      "Requirement already satisfied: pillow>=6.2.0 in /usr/local/lib/python3.6/dist-packages (from matplotlib->showit)\n",
      "Requirement already satisfied: pyparsing!=2.0.4,!=2.1.2,!=2.1.6,>=2.0.3 in /usr/local/lib/python3.6/dist-packages (from matplotlib->showit)\n",
      "Requirement already satisfied: cycler>=0.10 in /usr/local/lib/python3.6/dist-packages (from matplotlib->showit)\n",
      "Requirement already satisfied: certifi>=2020.06.20 in /usr/local/lib/python3.6/dist-packages (from matplotlib->showit)\n",
      "Requirement already satisfied: kiwisolver>=1.0.1 in /usr/local/lib/python3.6/dist-packages (from matplotlib->showit)\n",
      "Requirement already satisfied: six>=1.5 in /usr/lib/python3/dist-packages (from python-dateutil>=2.1->matplotlib->showit)\n",
      "\n",
      "Requirement already satisfied: seaborn in /usr/local/lib/python3.6/dist-packages\n",
      "\n",
      "\n",
      "Requirement already satisfied: numpy>=1.15 in /usr/local/lib/python3.6/dist-packages (from seaborn)\n",
      "\n",
      "\n",
      "Requirement already satisfied: scipy>=1.0 in /usr/local/lib/python3.6/dist-packages (from seaborn)\n",
      "\n",
      "\n",
      "Requirement already satisfied: matplotlib>=2.2 in /usr/local/lib/python3.6/dist-packages (from seaborn)\n",
      "\n",
      "\n",
      "Requirement already satisfied: pandas>=0.23 in /usr/local/lib/python3.6/dist-packages (from seaborn)\n",
      "\n",
      "\n",
      "Requirement already satisfied: kiwisolver>=1.0.1 in /usr/local/lib/python3.6/dist-packages (from matplotlib>=2.2->seaborn)\n",
      "\n",
      "\n",
      "Requirement already satisfied: cycler>=0.10 in /usr/local/lib/python3.6/dist-packages (from matplotlib>=2.2->seaborn)\n",
      "\n",
      "\n",
      "Requirement already satisfied: python-dateutil>=2.1 in /usr/local/lib/python3.6/dist-packages (from matplotlib>=2.2->seaborn)\n",
      "\n",
      "\n",
      "Requirement already satisfied: pillow>=6.2.0 in /usr/local/lib/python3.6/dist-packages (from matplotlib>=2.2->seaborn)\n",
      "\n",
      "\n",
      "Requirement already satisfied: pyparsing!=2.0.4,!=2.1.2,!=2.1.6,>=2.0.3 in /usr/local/lib/python3.6/dist-packages (from matplotlib>=2.2->seaborn)\n",
      "\n",
      "\n",
      "Requirement already satisfied: certifi>=2020.06.20 in /usr/local/lib/python3.6/dist-packages (from matplotlib>=2.2->seaborn)\n",
      "\n",
      "\n",
      "Requirement already satisfied: pytz>=2017.2 in /usr/local/lib/python3.6/dist-packages (from pandas>=0.23->seaborn)\n",
      "\n",
      "\n",
      "Requirement already satisfied: six in /usr/lib/python3/dist-packages (from cycler>=0.10->matplotlib>=2.2->seaborn)\n",
      "\n",
      "\n"
     ]
    }
   ],
   "source": [
    "!pip install pyspark==2.4.6\n",
    "!pip install thunder-python\n",
    "!pip install showit\n",
    "!pip install seaborn"
   ]
  },
  {
   "cell_type": "code",
   "execution_count": 9,
   "metadata": {},
   "outputs": [
    {
     "ename": "<console>",
     "evalue": "3: error: '.' expected but ';' found.",
     "output_type": "error",
     "traceback": [
      "<console>:3: error: '.' expected but ';' found.",
      "sc = pyspark.SparkContext('local[*]')",
      "^",
      "<console>:3: error: unclosed character literal",
      "sc = pyspark.SparkContext('local[*]')",
      "                                   ^",
      ""
     ]
    }
   ],
   "source": [
    "import pyspark\n",
    "sc = pyspark.SparkContext('local[*]')"
   ]
  },
  {
   "cell_type": "code",
   "execution_count": 10,
   "metadata": {},
   "outputs": [
    {
     "name": "stderr",
     "output_type": "stream",
     "text": [
      "\u001b[0;31mError in calling magic 'matplotlib' on line:\n",
      "    'inline' is not a valid value for backend; supported values are ['GTK3Agg', 'GTK3Cairo', 'MacOSX', 'nbAgg', 'Qt4Agg', 'Qt4Cairo', 'Qt5Agg', 'Qt5Cairo', 'TkAgg', 'TkCairo', 'WebAgg', 'WX', 'WXAgg', 'WXCairo', 'agg', 'cairo', 'pdf', 'pgf', 'ps', 'svg', 'template']\n",
      "    args: ['inline']\n",
      "    kwargs: {}\n",
      "\u001b[0m\u001b[0;31mTraceback (most recent call last):\n",
      "  File \"/usr/local/lib/python3.6/dist-packages/metakernel/magic.py\", line 96, in call_magic\n",
      "    func(*args, **kwargs)\n",
      "  File \"/usr/local/lib/python3.6/dist-packages/metakernel/magics/matplotlib_magic.py\", line 40, in line_matplotlib\n",
      "    matplotlib.use(backend)\n",
      "  File \"/usr/local/lib/python3.6/dist-packages/matplotlib/__init__.py\", line 1145, in use\n",
      "    name = validate_backend(backend)\n",
      "  File \"/usr/local/lib/python3.6/dist-packages/matplotlib/rcsetup.py\", line 295, in validate_backend\n",
      "    else _validate_standard_backends(s))\n",
      "  File \"/usr/local/lib/python3.6/dist-packages/matplotlib/rcsetup.py\", line 81, in __call__\n",
      "    raise ValueError(msg)\n",
      "ValueError: 'inline' is not a valid value for backend; supported values are ['GTK3Agg', 'GTK3Cairo', 'MacOSX', 'nbAgg', 'Qt4Agg', 'Qt4Cairo', 'Qt5Agg', 'Qt5Cairo', 'TkAgg', 'TkCairo', 'WebAgg', 'WX', 'WXAgg', 'WXCairo', 'agg', 'cairo', 'pdf', 'pgf', 'ps', 'svg', 'template']\n",
      "\n",
      "\u001b[0m\u001b[0;31m%matplotlib BACKEND - set the matplotlib backend to BACKEND\n",
      "\n",
      "This line magic will set (and reload) the items associated\n",
      "with the matplotlib backend.\n",
      "\n",
      "Also, monkeypatches the IPython.display.display\n",
      "to work with metakernel-based kernels.\n",
      "\n",
      "Example:\n",
      "    %matplotlib notebook\n",
      "\n",
      "    import matplotlib.pyplot as plt\n",
      "    plt.plot([3, 8, 2, 5, 1])\n",
      "    plt.show()\n",
      "\u001b[0m"
     ]
    }
   ],
   "source": [
    "%matplotlib inline"
   ]
  },
  {
   "cell_type": "code",
   "execution_count": 11,
   "metadata": {},
   "outputs": [
    {
     "ename": "<console>",
     "evalue": "2: error: ';' expected but identifier found.",
     "output_type": "error",
     "traceback": [
      "<console>:2: error: ';' expected but identifier found.",
      "import matplotlib.pyplot as plt",
      "                         ^",
      "<console>:3: error: '.' expected but identifier found.",
      "import thunder as td",
      "               ^",
      "<console>:4: error: identifier expected but ';' found.",
      "from showit import image,tile",
      "^",
      "<console>:4: error: ';' expected but 'import' found.",
      "from showit import image,tile",
      "            ^",
      ""
     ]
    }
   ],
   "source": [
    "import matplotlib.pyplot as plt\n",
    "import thunder as td\n",
    "from showit import image,tile"
   ]
  },
  {
   "cell_type": "code",
   "execution_count": 12,
   "metadata": {},
   "outputs": [
    {
     "ename": "<console>",
     "evalue": "2: error: unclosed character literal",
     "output_type": "error",
     "traceback": [
      "<console>:2: error: unclosed character literal",
      "data=td.series.fromexample('fish',engine=sc)",
      "                                ^",
      ""
     ]
    }
   ],
   "source": [
    "data=td.series.fromexample('fish',engine=sc)"
   ]
  },
  {
   "cell_type": "code",
   "execution_count": 13,
   "metadata": {},
   "outputs": [
    {
     "ename": "<console>",
     "evalue": "27: error: not found: value data",
     "output_type": "error",
     "traceback": [
      "<console>:27: error: not found: value data",
      "val $ires3 = data",
      "             ^",
      "<console>:24: error: not found: value data",
      "       data=data.toimages()",
      "       ^",
      ""
     ]
    }
   ],
   "source": [
    "data=data.toimages()"
   ]
  },
  {
   "cell_type": "code",
   "execution_count": 14,
   "metadata": {},
   "outputs": [
    {
     "ename": "<console>",
     "evalue": "26: error: not found: value data",
     "output_type": "error",
     "traceback": [
      "<console>:26: error: not found: value data",
      "       print(data)",
      "             ^",
      ""
     ]
    }
   ],
   "source": [
    "print(data)"
   ]
  },
  {
   "cell_type": "code",
   "execution_count": 15,
   "metadata": {},
   "outputs": [
    {
     "ename": "<console>",
     "evalue": "27: error: not found: value img",
     "output_type": "error",
     "traceback": [
      "<console>:27: error: not found: value img",
      "val $ires4 = img",
      "             ^",
      "<console>:24: error: not found: value img",
      "       img=data.first()",
      "       ^",
      ""
     ]
    }
   ],
   "source": [
    "img=data.first()"
   ]
  },
  {
   "cell_type": "code",
   "execution_count": 16,
   "metadata": {},
   "outputs": [
    {
     "ename": "<console>",
     "evalue": "26: error: not found: value tile",
     "output_type": "error",
     "traceback": [
      "<console>:26: error: not found: value tile",
      "       tile(img,axis=2)",
      "       ^",
      "<console>:26: error: not found: value img",
      "       tile(img,axis=2)",
      "            ^",
      "<console>:26: error: not found: value axis",
      "       tile(img,axis=2)",
      "                ^",
      ""
     ]
    }
   ],
   "source": [
    "tile(img,axis=2)"
   ]
  },
  {
   "cell_type": "code",
   "execution_count": 17,
   "metadata": {},
   "outputs": [
    {
     "ename": "<console>",
     "evalue": "27: error: not found: value subsampled",
     "output_type": "error",
     "traceback": [
      "<console>:27: error: not found: value subsampled",
      "       print(subsampled)",
      "             ^",
      "<console>:30: error: not found: value subsampled",
      "val $ires5 = subsampled",
      "             ^",
      "<console>:24: error: not found: value subsampled",
      "       subsampled=data.subsample((5,5,1))",
      "       ^",
      ""
     ]
    }
   ],
   "source": [
    "subsampled=data.subsample((5,5,1))\n",
    "print(subsampled)"
   ]
  },
  {
   "cell_type": "code",
   "execution_count": 18,
   "metadata": {},
   "outputs": [
    {
     "ename": "<console>",
     "evalue": "26: error: not found: value tile",
     "output_type": "error",
     "traceback": [
      "<console>:26: error: not found: value tile",
      "       tile(subsampled.first(),axis=2)",
      "       ^",
      "<console>:26: error: not found: value subsampled",
      "       tile(subsampled.first(),axis=2)",
      "            ^",
      "<console>:26: error: not found: value axis",
      "       tile(subsampled.first(),axis=2)",
      "                               ^",
      ""
     ]
    }
   ],
   "source": [
    "tile(subsampled.first(),axis=2)"
   ]
  },
  {
   "cell_type": "code",
   "execution_count": 19,
   "metadata": {},
   "outputs": [
    {
     "ename": "<console>",
     "evalue": "27: error: not found: value statistics",
     "output_type": "error",
     "traceback": [
      "<console>:27: error: not found: value statistics",
      "       print(statistics)",
      "             ^",
      "<console>:30: error: not found: value statistics",
      "val $ires6 = statistics",
      "             ^",
      "<console>:24: error: not found: value statistics",
      "       statistics=data.std()",
      "       ^",
      ""
     ]
    }
   ],
   "source": [
    "statistics=data.std()\n",
    "print(statistics)"
   ]
  },
  {
   "cell_type": "code",
   "execution_count": 20,
   "metadata": {},
   "outputs": [
    {
     "ename": "<console>",
     "evalue": "2: error: identifier expected but integer literal found.",
     "output_type": "error",
     "traceback": [
      "<console>:2: error: identifier expected but integer literal found.",
      "tile(statistics[0],axis=2)",
      "                ^",
      ""
     ]
    }
   ],
   "source": [
    "tile(statistics[0],axis=2)"
   ]
  },
  {
   "cell_type": "code",
   "execution_count": 21,
   "metadata": {},
   "outputs": [
    {
     "ename": "<console>",
     "evalue": "27: error: not found: value series",
     "output_type": "error",
     "traceback": [
      "<console>:27: error: not found: value series",
      "val $ires7 = series",
      "             ^",
      "<console>:24: error: not found: value series",
      "       series=data.toseries()",
      "       ^",
      ""
     ]
    }
   ],
   "source": [
    "series=data.toseries()"
   ]
  },
  {
   "cell_type": "code",
   "execution_count": 22,
   "metadata": {},
   "outputs": [
    {
     "ename": "<console>",
     "evalue": "26: error: not found: value series",
     "output_type": "error",
     "traceback": [
      "<console>:26: error: not found: value series",
      "       print(series)",
      "             ^",
      ""
     ]
    }
   ],
   "source": [
    "print(series)"
   ]
  },
  {
   "cell_type": "code",
   "execution_count": 23,
   "metadata": {},
   "outputs": [
    {
     "ename": "<console>",
     "evalue": " error: incomplete input",
     "output_type": "error",
     "traceback": [
      "<console>: error: incomplete input"
     ]
    }
   ],
   "source": [
    "print(series.index)"
   ]
  },
  {
   "cell_type": "code",
   "execution_count": 24,
   "metadata": {},
   "outputs": [
    {
     "ename": "<console>",
     "evalue": "26: error: not found: value series",
     "output_type": "error",
     "traceback": [
      "<console>:26: error: not found: value series",
      "       print(series.count)",
      "             ^",
      ""
     ]
    }
   ],
   "source": [
    "print(series.count)"
   ]
  },
  {
   "cell_type": "code",
   "execution_count": 25,
   "metadata": {},
   "outputs": [
    {
     "ename": "<console>",
     "evalue": "26: error: not found: value series",
     "output_type": "error",
     "traceback": [
      "<console>:26: error: not found: value series",
      "       series.flatten().shape",
      "       ^",
      ""
     ]
    }
   ],
   "source": [
    "series.flatten().shape"
   ]
  },
  {
   "cell_type": "code",
   "execution_count": 26,
   "metadata": {},
   "outputs": [
    {
     "ename": "<console>",
     "evalue": "2: error: ')' expected but '(' found.",
     "output_type": "error",
     "traceback": [
      "<console>:2: error: ')' expected but '(' found.",
      "samples = series.flatten().filter(lambda x: x.std()>6).normalize( ).sample(n=50).toarray()",
      "                                                 ^",
      "<console>:2: error: ';' expected but ')' found.",
      "samples = series.flatten().filter(lambda x: x.std()>6).normalize( ).sample(n=50).toarray()",
      "                                                     ^",
      ""
     ]
    }
   ],
   "source": [
    "samples = series.flatten().filter(lambda x: x.std()>6).normalize( ).sample(n=50).toarray()"
   ]
  },
  {
   "cell_type": "code",
   "execution_count": 27,
   "metadata": {},
   "outputs": [
    {
     "ename": "<console>",
     "evalue": "26: error: not found: value plt",
     "output_type": "error",
     "traceback": [
      "<console>:26: error: not found: value plt",
      "       plt.plot(samples.T)",
      "       ^",
      "<console>:26: error: not found: value samples",
      "       plt.plot(samples.T)",
      "                ^",
      ""
     ]
    }
   ],
   "source": [
    "plt.plot(samples.T)"
   ]
  },
  {
   "cell_type": "code",
   "execution_count": 28,
   "metadata": {},
   "outputs": [
    {
     "ename": "<console>",
     "evalue": "29: error: not found: value series",
     "output_type": "error",
     "traceback": [
      "<console>:29: error: not found: value series",
      "       print(series.shape)",
      "             ^",
      "<console>:32: error: not found: value images",
      "val $ires8 = images",
      "             ^",
      "<console>:33: error: not found: value series",
      "val $ires9 = series",
      "             ^",
      "<console>:25: error: not found: value images",
      "       images=td.images.frombinary(\"Data/FishLong\",order\"F\",engine=sc)",
      "       ^",
      "<console>:26: error: not found: value series",
      "       series=images.toseries()",
      "       ^",
      ""
     ]
    }
   ],
   "source": [
    "images=td.images.frombinary(\"Data/FishLong\",order\"F\",engine=sc)\n",
    "series=images.toseries()\n",
    "print(series.shape)"
   ]
  },
  {
   "cell_type": "code",
   "execution_count": 29,
   "metadata": {},
   "outputs": [
    {
     "ename": "<console>",
     "evalue": "2: error: unclosed character literal",
     "output_type": "error",
     "traceback": [
      "<console>:2: error: unclosed character literal",
      "normalized=series.normalize(method='mean')",
      "                                        ^",
      ""
     ]
    }
   ],
   "source": [
    "normalized=series.normalize(method='mean')"
   ]
  },
  {
   "cell_type": "code",
   "execution_count": 30,
   "metadata": {},
   "outputs": [
    {
     "ename": "<console>",
     "evalue": "2: error: ')' expected but '(' found.",
     "output_type": "error",
     "traceback": [
      "<console>:2: error: ')' expected but '(' found.",
      "stddevs=normalized.map(lambda s:s.std()).sample(1000)",
      "                                     ^",
      "<console>:2: error: ';' expected but ')' found.",
      "stddevs=normalized.map(lambda s:s.std()).sample(1000)",
      "                                       ^",
      ""
     ]
    }
   ],
   "source": [
    "stddevs=normalized.map(lambda s:s.std()).sample(1000)"
   ]
  },
  {
   "cell_type": "code",
   "execution_count": 31,
   "metadata": {},
   "outputs": [
    {
     "ename": "<console>",
     "evalue": "26: error: not found: value plt",
     "output_type": "error",
     "traceback": [
      "<console>:26: error: not found: value plt",
      "       plt.hist(stddevs.values,bins=20)",
      "       ^",
      "<console>:26: error: not found: value stddevs",
      "       plt.hist(stddevs.values,bins=20)",
      "                ^",
      "<console>:26: error: not found: value bins",
      "       plt.hist(stddevs.values,bins=20)",
      "                               ^",
      ""
     ]
    }
   ],
   "source": [
    "plt.hist(stddevs.values,bins=20)"
   ]
  },
  {
   "cell_type": "code",
   "execution_count": 32,
   "metadata": {},
   "outputs": [
    {
     "ename": "<console>",
     "evalue": "26: error: not found: value plt",
     "output_type": "error",
     "traceback": [
      "<console>:26: error: not found: value plt",
      "       plt.plot(normalized.sample(50).values.T)",
      "       ^",
      "<console>:26: error: not found: value normalized",
      "       plt.plot(normalized.sample(50).values.T)",
      "                ^",
      ""
     ]
    }
   ],
   "source": [
    "plt.plot(normalized.sample(50).values.T)"
   ]
  },
  {
   "cell_type": "code",
   "execution_count": 33,
   "metadata": {},
   "outputs": [
    {
     "ename": "<console>",
     "evalue": "2: error: ')' expected but '(' found.",
     "output_type": "error",
     "traceback": [
      "<console>:2: error: ')' expected but '(' found.",
      "plt.plot(normalized.filter(lambda s:s.std()>=0.1).sample(50).values.T)",
      "                                         ^",
      "<console>:2: error: ';' expected but ')' found.",
      "plt.plot(normalized.filter(lambda s:s.std()>=0.1).sample(50).values.T)",
      "                                                                     ^",
      ""
     ]
    }
   ],
   "source": [
    "plt.plot(normalized.filter(lambda s:s.std()>=0.1).sample(50).values.T)"
   ]
  },
  {
   "cell_type": "code",
   "execution_count": 34,
   "metadata": {},
   "outputs": [
    {
     "ename": "<console>",
     "evalue": "2: error: ';' expected but '.' found.",
     "output_type": "error",
     "traceback": [
      "<console>:2: error: ';' expected but '.' found.",
      "from pyspark.mllib.clustering import Kmeans",
      "            ^",
      ""
     ]
    }
   ],
   "source": [
    "from pyspark.mllib.clustering import Kmeans"
   ]
  },
  {
   "cell_type": "code",
   "execution_count": 35,
   "metadata": {},
   "outputs": [
    {
     "ename": "<console>",
     "evalue": "2: error: illegal start of simple expression",
     "output_type": "error",
     "traceback": [
      "<console>:2: error: illegal start of simple expression",
      "ks=[5,10,15,20,30,50,100,200]",
      "   ^",
      ""
     ]
    }
   ],
   "source": [
    "ks=[5,10,15,20,30,50,100,200]"
   ]
  },
  {
   "cell_type": "code",
   "execution_count": 36,
   "metadata": {},
   "outputs": [
    {
     "ename": "<console>",
     "evalue": "2: error: illegal start of simple expression",
     "output_type": "error",
     "traceback": [
      "<console>:2: error: illegal start of simple expression",
      "models=[]",
      "       ^",
      ""
     ]
    }
   ],
   "source": [
    "models=[]"
   ]
  },
  {
   "cell_type": "code",
   "execution_count": 37,
   "metadata": {},
   "outputs": [
    {
     "ename": "<console>",
     "evalue": "2: error: '(' expected but identifier found.",
     "output_type": "error",
     "traceback": [
      "<console>:2: error: '(' expected but identifier found.",
      "for k in ks",
      "    ^",
      ""
     ]
    }
   ],
   "source": [
    "for k in ks\n",
    " models.append(Kmeans.train(normalized.values._rdd.values(),k))"
   ]
  },
  {
   "cell_type": "code",
   "execution_count": 38,
   "metadata": {},
   "outputs": [
    {
     "ename": "<console>",
     "evalue": "2: error: ':' expected but ')' found.",
     "output_type": "error",
     "traceback": [
      "<console>:2: error: ':' expected but ')' found.",
      "def model_error(model):",
      "                     ^",
      ""
     ]
    }
   ],
   "source": [
    "def model_error(model):\n",
    " return model.computeCost(normalized.values._rdd.values())"
   ]
  },
  {
   "cell_type": "code",
   "execution_count": 39,
   "metadata": {},
   "outputs": [
    {
     "ename": "<console>",
     "evalue": "2: error: '.' expected but identifier found.",
     "output_type": "error",
     "traceback": [
      "<console>:2: error: '.' expected but identifier found.",
      "import numpy as np",
      "             ^",
      ""
     ]
    }
   ],
   "source": [
    "import numpy as np"
   ]
  },
  {
   "cell_type": "code",
   "execution_count": 40,
   "metadata": {},
   "outputs": [
    {
     "ename": "<console>",
     "evalue": "2: error: illegal start of simple expression",
     "output_type": "error",
     "traceback": [
      "<console>:2: error: illegal start of simple expression",
      "errors=[]",
      "       ^",
      "<console>:3: error: '(' expected but identifier found.",
      "for i in range(8)",
      "    ^",
      ""
     ]
    }
   ],
   "source": [
    "errors=[]\n",
    "for i in range(8)\n",
    " errors.append(model_error(models[i]))"
   ]
  },
  {
   "cell_type": "code",
   "execution_count": 41,
   "metadata": {},
   "outputs": [
    {
     "ename": "<console>",
     "evalue": "26: error: not found: value plt",
     "output_type": "error",
     "traceback": [
      "<console>:26: error: not found: value plt",
      "       plt.plots(ks,errors,\"k-o\")",
      "       ^",
      "<console>:26: error: not found: value ks",
      "       plt.plots(ks,errors,\"k-o\")",
      "                 ^",
      "<console>:26: error: not found: value errors",
      "       plt.plots(ks,errors,\"k-o\")",
      "                    ^",
      ""
     ]
    }
   ],
   "source": [
    "plt.plots(ks,errors,\"k-o\")"
   ]
  },
  {
   "cell_type": "code",
   "execution_count": 42,
   "metadata": {},
   "outputs": [
    {
     "ename": "<console>",
     "evalue": "2: error: identifier expected but integer literal found.",
     "output_type": "error",
     "traceback": [
      "<console>:2: error: identifier expected but integer literal found.",
      "model30=models[4]",
      "               ^",
      "<console>:3: error: ']' expected but ';' found.",
      "plt.plot(np.asarry(model30.centers).T)",
      "^",
      ""
     ]
    }
   ],
   "source": [
    "model30=models[4]\n",
    "plt.plot(np.asarry(model30.centers).T)"
   ]
  },
  {
   "cell_type": "code",
   "execution_count": 43,
   "metadata": {},
   "outputs": [
    {
     "ename": "<console>",
     "evalue": "2: error: '.' expected but identifier found.",
     "output_type": "error",
     "traceback": [
      "<console>:2: error: '.' expected but identifier found.",
      "import seaborn as sns",
      "               ^",
      "<console>:3: error: identifier expected but ';' found.",
      "from matplotlib.colors import ListedColormap",
      "^",
      "<console>:3: error: ';' expected but '.' found.",
      "from matplotlib.colors import ListedColormap",
      "               ^",
      "<console>:5: error: ')' expected but '(' found.",
      "by_cluster=normalized.map(lambda x:model30.predict(x)).toarray",
      "                                                  ^",
      "<console>:5: error: ';' expected but ')' found.",
      "by_cluster=normalized.map(lambda x:model30.predict(x)).toarray",
      "                                                     ^",
      "<console>:6: error: unclosed character literal",
      "plt.imshow(by_cluster[:,:,0],interpolation='nearest',aspect='equal')",
      "                                                   ^",
      "<console>:6: error: unclosed character literal",
      "plt.imshow(by_cluster[:,:,0],interpolation='nearest',aspect='equal')",
      "                                                                  ^",
      ""
     ]
    }
   ],
   "source": [
    "import seaborn as sns\n",
    "from matplotlib.colors import ListedColormap\n",
    "cmap_cat=ListedColormap(sns.color_palette(\"his\",10),name=\"from_list\")\n",
    "by_cluster=normalized.map(lambda x:model30.predict(x)).toarray\n",
    "plt.imshow(by_cluster[:,:,0],interpolation='nearest',aspect='equal')"
   ]
  }
 ],
 "metadata": {
  "kernelspec": {
   "display_name": "spylon-kernel",
   "language": "scala",
   "name": "spylon-kernel"
  },
  "language_info": {
   "codemirror_mode": "text/x-scala",
   "file_extension": ".scala",
   "help_links": [
    {
     "text": "MetaKernel Magics",
     "url": "https://metakernel.readthedocs.io/en/latest/source/README.html"
    }
   ],
   "mimetype": "text/x-scala",
   "name": "scala",
   "pygments_lexer": "scala",
   "version": "0.4.1"
  }
 },
 "nbformat": 4,
 "nbformat_minor": 4
}
